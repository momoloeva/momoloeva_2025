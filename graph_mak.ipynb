{
  "nbformat": 4,
  "nbformat_minor": 0,
  "metadata": {
    "colab": {
      "provenance": []
    },
    "kernelspec": {
      "name": "python3",
      "display_name": "Python 3"
    },
    "language_info": {
      "name": "python"
    }
  },
  "cells": [
    {
      "cell_type": "code",
      "execution_count": 1,
      "metadata": {
        "colab": {
          "base_uri": "https://localhost:8080/"
        },
        "id": "qUK_of6FhkfQ",
        "outputId": "6349f823-c026-4528-ee88-3a7c175c31f4"
      },
      "outputs": [
        {
          "output_type": "stream",
          "name": "stdout",
          "text": [
            "Вершины на расстоянии 2 от 0: {2, 4}\n"
          ]
        }
      ],
      "source": [
        "from collections import deque\n",
        "\n",
        "def find_vertices_at_distance_k(adj_list, s, k):\n",
        "    n = len(adj_list)\n",
        "    visited = [False] * n\n",
        "    distance = [-1] * n\n",
        "\n",
        "    queue = deque([s])\n",
        "    visited[s] = True\n",
        "    distance[s] = 0\n",
        "\n",
        "    while queue:\n",
        "        current = queue.popleft()\n",
        "        for neighbor in adj_list[current]:\n",
        "            if not visited[neighbor]:\n",
        "                visited[neighbor] = True\n",
        "                distance[neighbor] = distance[current] + 1\n",
        "                queue.append(neighbor)\n",
        "\n",
        "    result = set()\n",
        "    for i in range(n):\n",
        "        if distance[i] == k:\n",
        "            result.add(i)\n",
        "\n",
        "    return result\n",
        "\n",
        "if __name__ == \"__main__\":\n",
        "    adj_list = [\n",
        "        [1, 3],\n",
        "        [0, 2, 4],\n",
        "        [1, 5],\n",
        "        [0, 4],\n",
        "        [1, 3, 5],\n",
        "        [2, 4]\n",
        "    ]\n",
        "\n",
        "    s = 0\n",
        "    k = 2\n",
        "    result = find_vertices_at_distance_k(adj_list, s, k)\n",
        "    print(f\"Вершины на расстоянии {k} от {s}: {result}\")\n"
      ]
    }
  ]
}