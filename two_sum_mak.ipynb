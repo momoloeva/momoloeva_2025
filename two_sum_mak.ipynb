{
  "nbformat": 4,
  "nbformat_minor": 0,
  "metadata": {
    "colab": {
      "provenance": []
    },
    "kernelspec": {
      "name": "python3",
      "display_name": "Python 3"
    },
    "language_info": {
      "name": "python"
    }
  },
  "cells": [
    {
      "cell_type": "code",
      "execution_count": 1,
      "metadata": {
        "id": "OKXAJArLinoM",
        "outputId": "833bc278-7006-4fdc-d0b5-5e971de1532a",
        "colab": {
          "base_uri": "https://localhost:8080/"
        }
      },
      "outputs": [
        {
          "output_type": "stream",
          "name": "stdout",
          "text": [
            "nums = [2, 7, 11, 15], target = 9\n",
            "O(N²): [0, 1]\n",
            "O(N log N): [0, 1]\n",
            "O(N): [0, 1]\n",
            "\n",
            "nums = [3, 2, 4], target = 6\n",
            "O(N²): [1, 2]\n",
            "O(N log N): [1, 2]\n",
            "O(N): [1, 2]\n",
            "\n",
            "nums = [3, 3], target = 6\n",
            "O(N²): [0, 1]\n",
            "O(N log N): [0, 1]\n",
            "O(N): [0, 1]\n",
            "\n"
          ]
        }
      ],
      "source": [
        "def two_sum_brute_force(nums, target):\n",
        "    n = len(nums)\n",
        "    for i in range(n):\n",
        "        for j in range(i + 1, n):\n",
        "            if nums[i] + nums[j] == target:\n",
        "                return [i, j]\n",
        "    return []\n",
        "\n",
        "def two_sum_sorted(nums, target):\n",
        "    indexed_nums = [(num, idx) for idx, num in enumerate(nums)]\n",
        "    indexed_nums.sort(key=lambda x: x[0])\n",
        "\n",
        "    left, right = 0, len(nums) - 1\n",
        "    while left < right:\n",
        "        current_sum = indexed_nums[left][0] + indexed_nums[right][0]\n",
        "        if current_sum == target:\n",
        "            return [indexed_nums[left][1], indexed_nums[right][1]]\n",
        "        elif current_sum < target:\n",
        "            left += 1\n",
        "        else:\n",
        "            right -= 1\n",
        "    return []\n",
        "\n",
        "def two_sum_hashmap(nums, target):\n",
        "    num_map = {}\n",
        "    for i, num in enumerate(nums):\n",
        "        complement = target - num\n",
        "        if complement in num_map:\n",
        "            return [num_map[complement], i]\n",
        "        num_map[num] = i\n",
        "    return []\n",
        "\n",
        "if __name__ == \"__main__\":\n",
        "    test_cases = [\n",
        "        ([2, 7, 11, 15], 9),\n",
        "        ([3, 2, 4], 6),\n",
        "        ([3, 3], 6)\n",
        "    ]\n",
        "\n",
        "    for nums, target in test_cases:\n",
        "        print(f\"nums = {nums}, target = {target}\")\n",
        "        print(f\"O(N²): {two_sum_brute_force(nums, target)}\")\n",
        "        print(f\"O(N log N): {two_sum_sorted(nums, target)}\")\n",
        "        print(f\"O(N): {two_sum_hashmap(nums, target)}\")\n",
        "        print()\n"
      ]
    }
  ]
}